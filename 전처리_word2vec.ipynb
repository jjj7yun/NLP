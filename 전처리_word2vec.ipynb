{
 "cells": [
  {
   "cell_type": "code",
   "execution_count": 1,
   "id": "66a0498c",
   "metadata": {},
   "outputs": [],
   "source": [
    "import nltk\n",
    "#Data Preprocessing Package\n",
    "import re\n",
    "import numpy as np\n",
    "import pandas as pd\n",
    "import os\n",
    "import nltk\n",
    "from nltk.tokenize import TreebankWordTokenizer\n",
    "from nltk.stem import WordNetLemmatizer\n",
    "from nltk.tag import pos_tag\n",
    "\n",
    "from sklearn.feature_extraction.text import ENGLISH_STOP_WORDS as sklearn_stop_words\n",
    "import re\n",
    "import nltk\n",
    "#from nltk.tokenize import TreebankWordTokenizer\n",
    "from nltk.tokenize import WordPunctTokenizer \n",
    "from nltk.stem import WordNetLemmatizer\n",
    "from nltk.tag import pos_tag\n",
    "\n",
    "from sklearn.feature_extraction.text import ENGLISH_STOP_WORDS as sklearn_stop_words\n",
    "import re"
   ]
  },
  {
   "cell_type": "code",
   "execution_count": 2,
   "id": "cafc731e",
   "metadata": {},
   "outputs": [],
   "source": [
    "from nltk.stem import WordNetLemmatizer\n",
    "from sklearn.feature_extraction.text import ENGLISH_STOP_WORDS as sklearn_stop_words\n",
    "from nltk.tag import pos_tag\n",
    "lemma = WordNetLemmatizer()"
   ]
  },
  {
   "cell_type": "code",
   "execution_count": 3,
   "id": "5acb5782",
   "metadata": {},
   "outputs": [
    {
     "data": {
      "text/html": [
       "<div>\n",
       "<style scoped>\n",
       "    .dataframe tbody tr th:only-of-type {\n",
       "        vertical-align: middle;\n",
       "    }\n",
       "\n",
       "    .dataframe tbody tr th {\n",
       "        vertical-align: top;\n",
       "    }\n",
       "\n",
       "    .dataframe thead th {\n",
       "        text-align: right;\n",
       "    }\n",
       "</style>\n",
       "<table border=\"1\" class=\"dataframe\">\n",
       "  <thead>\n",
       "    <tr style=\"text-align: right;\">\n",
       "      <th></th>\n",
       "      <th>filelist</th>\n",
       "      <th>rawdata</th>\n",
       "      <th>cleaned</th>\n",
       "    </tr>\n",
       "  </thead>\n",
       "  <tbody>\n",
       "    <tr>\n",
       "      <th>0</th>\n",
       "      <td>1.samsung_electronic2021.txt</td>\n",
       "      <td>Samsung Electronics Sustainability Report 2021...</td>\n",
       "      <td>samsung journey future approach environment su...</td>\n",
       "    </tr>\n",
       "    <tr>\n",
       "      <th>1</th>\n",
       "      <td>101.Hyosung_Advanced_Materials_2020.txt</td>\n",
       "      <td>Sustainability\\n\\nwith Stakeholders\\n2020 Hyos...</td>\n",
       "      <td>sustainability sustainability hyosung hamc sus...</td>\n",
       "    </tr>\n",
       "    <tr>\n",
       "      <th>2</th>\n",
       "      <td>103.meritz_securities_2019.txt</td>\n",
       "      <td>2019 SUSTAINABILITY REPORT\\n\\nMORE\\nTHAN JUST\\...</td>\n",
       "      <td>sustainability share company sustainability ye...</td>\n",
       "    </tr>\n",
       "    <tr>\n",
       "      <th>3</th>\n",
       "      <td>106.OCI_2020.txt</td>\n",
       "      <td>INTEGRATED REPORT 2020\\n\\nTRANSFORMING\\nOPPORT...</td>\n",
       "      <td>introduction ceo message pdf web video clip pr...</td>\n",
       "    </tr>\n",
       "    <tr>\n",
       "      <th>4</th>\n",
       "      <td>107.sk_chemical_2020.txt</td>\n",
       "      <td>2020 SK chemicals Sustainability Report\\n\\nWe ...</td>\n",
       "      <td>future healthcare story health environment ear...</td>\n",
       "    </tr>\n",
       "  </tbody>\n",
       "</table>\n",
       "</div>"
      ],
      "text/plain": [
       "                                  filelist  \\\n",
       "0             1.samsung_electronic2021.txt   \n",
       "1  101.Hyosung_Advanced_Materials_2020.txt   \n",
       "2           103.meritz_securities_2019.txt   \n",
       "3                         106.OCI_2020.txt   \n",
       "4                 107.sk_chemical_2020.txt   \n",
       "\n",
       "                                             rawdata  \\\n",
       "0  Samsung Electronics Sustainability Report 2021...   \n",
       "1  Sustainability\\n\\nwith Stakeholders\\n2020 Hyos...   \n",
       "2  2019 SUSTAINABILITY REPORT\\n\\nMORE\\nTHAN JUST\\...   \n",
       "3  INTEGRATED REPORT 2020\\n\\nTRANSFORMING\\nOPPORT...   \n",
       "4  2020 SK chemicals Sustainability Report\\n\\nWe ...   \n",
       "\n",
       "                                             cleaned  \n",
       "0  samsung journey future approach environment su...  \n",
       "1  sustainability sustainability hyosung hamc sus...  \n",
       "2  sustainability share company sustainability ye...  \n",
       "3  introduction ceo message pdf web video clip pr...  \n",
       "4  future healthcare story health environment ear...  "
      ]
     },
     "execution_count": 3,
     "metadata": {},
     "output_type": "execute_result"
    }
   ],
   "source": [
    "\n",
    "df=pd.read_excel('./data/전처리_1012.xlsx', \n",
    "                    usecols=['filelist','rawdata','cleaned'])\n",
    "df.head()\n",
    "#df=df[:50]\n"
   ]
  },
  {
   "cell_type": "code",
   "execution_count": 4,
   "id": "ce71a3e2",
   "metadata": {},
   "outputs": [
    {
     "data": {
      "text/html": [
       "<div>\n",
       "<style scoped>\n",
       "    .dataframe tbody tr th:only-of-type {\n",
       "        vertical-align: middle;\n",
       "    }\n",
       "\n",
       "    .dataframe tbody tr th {\n",
       "        vertical-align: top;\n",
       "    }\n",
       "\n",
       "    .dataframe thead th {\n",
       "        text-align: right;\n",
       "    }\n",
       "</style>\n",
       "<table border=\"1\" class=\"dataframe\">\n",
       "  <thead>\n",
       "    <tr style=\"text-align: right;\">\n",
       "      <th></th>\n",
       "      <th>filelist</th>\n",
       "      <th>rawdata</th>\n",
       "      <th>cleaned</th>\n",
       "    </tr>\n",
       "  </thead>\n",
       "  <tbody>\n",
       "    <tr>\n",
       "      <th>0</th>\n",
       "      <td>1.samsung_electronic2021.txt</td>\n",
       "      <td>Samsung Electronics Sustainability Report 2021...</td>\n",
       "      <td>samsung journey future approach environment su...</td>\n",
       "    </tr>\n",
       "    <tr>\n",
       "      <th>1</th>\n",
       "      <td>101.Hyosung_Advanced_Materials_2020.txt</td>\n",
       "      <td>Sustainability\\n\\nwith Stakeholders\\n2020 Hyos...</td>\n",
       "      <td>sustainability sustainability hyosung hamc sus...</td>\n",
       "    </tr>\n",
       "    <tr>\n",
       "      <th>2</th>\n",
       "      <td>103.meritz_securities_2019.txt</td>\n",
       "      <td>2019 SUSTAINABILITY REPORT\\n\\nMORE\\nTHAN JUST\\...</td>\n",
       "      <td>sustainability share company sustainability ye...</td>\n",
       "    </tr>\n",
       "    <tr>\n",
       "      <th>3</th>\n",
       "      <td>106.OCI_2020.txt</td>\n",
       "      <td>INTEGRATED REPORT 2020\\n\\nTRANSFORMING\\nOPPORT...</td>\n",
       "      <td>introduction ceo message pdf web video clip pr...</td>\n",
       "    </tr>\n",
       "    <tr>\n",
       "      <th>4</th>\n",
       "      <td>107.sk_chemical_2020.txt</td>\n",
       "      <td>2020 SK chemicals Sustainability Report\\n\\nWe ...</td>\n",
       "      <td>future healthcare story health environment ear...</td>\n",
       "    </tr>\n",
       "    <tr>\n",
       "      <th>...</th>\n",
       "      <td>...</td>\n",
       "      <td>...</td>\n",
       "      <td>...</td>\n",
       "    </tr>\n",
       "    <tr>\n",
       "      <th>95</th>\n",
       "      <td>90.SAMSUNG_HEAVY_INDUSTRIES_2021.txt</td>\n",
       "      <td>SAMSUNG HEAVY INDUSTRIES\\nSUSTAINABILITY REPOR...</td>\n",
       "      <td>samsung samsung overview sustainability share ...</td>\n",
       "    </tr>\n",
       "    <tr>\n",
       "      <th>96</th>\n",
       "      <td>92.gs E_C_2021.txt</td>\n",
       "      <td>Grow with\\nGreen Sustainability\\nGS E&amp;C Integr...</td>\n",
       "      <td>grow sustainability business company value gov...</td>\n",
       "    </tr>\n",
       "    <tr>\n",
       "      <th>97</th>\n",
       "      <td>93.kogas_2021.txt</td>\n",
       "      <td>BETTER ENERGY,\\nBETTER WORLD\\nESG REPORT 2021\\...</td>\n",
       "      <td>energy world kogas kogas energy company knowho...</td>\n",
       "    </tr>\n",
       "    <tr>\n",
       "      <th>98</th>\n",
       "      <td>94.CJ Logistics_2020.txt</td>\n",
       "      <td>_x000C_ABOUT THIS REPORT\\n\\nSummary\\n\\nCJ Logi...</td>\n",
       "      <td>sustainability management year sustainability ...</td>\n",
       "    </tr>\n",
       "    <tr>\n",
       "      <th>99</th>\n",
       "      <td>99.Hanmi_pharm_2021.txt</td>\n",
       "      <td>_x000C_02\\n\\n2020-21 CSR Report\\n\\nIntroductio...</td>\n",
       "      <td>introduction introduction introduction introdu...</td>\n",
       "    </tr>\n",
       "  </tbody>\n",
       "</table>\n",
       "<p>100 rows × 3 columns</p>\n",
       "</div>"
      ],
      "text/plain": [
       "                                   filelist  \\\n",
       "0              1.samsung_electronic2021.txt   \n",
       "1   101.Hyosung_Advanced_Materials_2020.txt   \n",
       "2            103.meritz_securities_2019.txt   \n",
       "3                          106.OCI_2020.txt   \n",
       "4                  107.sk_chemical_2020.txt   \n",
       "..                                      ...   \n",
       "95     90.SAMSUNG_HEAVY_INDUSTRIES_2021.txt   \n",
       "96                       92.gs E_C_2021.txt   \n",
       "97                        93.kogas_2021.txt   \n",
       "98                 94.CJ Logistics_2020.txt   \n",
       "99                  99.Hanmi_pharm_2021.txt   \n",
       "\n",
       "                                              rawdata  \\\n",
       "0   Samsung Electronics Sustainability Report 2021...   \n",
       "1   Sustainability\\n\\nwith Stakeholders\\n2020 Hyos...   \n",
       "2   2019 SUSTAINABILITY REPORT\\n\\nMORE\\nTHAN JUST\\...   \n",
       "3   INTEGRATED REPORT 2020\\n\\nTRANSFORMING\\nOPPORT...   \n",
       "4   2020 SK chemicals Sustainability Report\\n\\nWe ...   \n",
       "..                                                ...   \n",
       "95  SAMSUNG HEAVY INDUSTRIES\\nSUSTAINABILITY REPOR...   \n",
       "96  Grow with\\nGreen Sustainability\\nGS E&C Integr...   \n",
       "97  BETTER ENERGY,\\nBETTER WORLD\\nESG REPORT 2021\\...   \n",
       "98  _x000C_ABOUT THIS REPORT\\n\\nSummary\\n\\nCJ Logi...   \n",
       "99  _x000C_02\\n\\n2020-21 CSR Report\\n\\nIntroductio...   \n",
       "\n",
       "                                              cleaned  \n",
       "0   samsung journey future approach environment su...  \n",
       "1   sustainability sustainability hyosung hamc sus...  \n",
       "2   sustainability share company sustainability ye...  \n",
       "3   introduction ceo message pdf web video clip pr...  \n",
       "4   future healthcare story health environment ear...  \n",
       "..                                                ...  \n",
       "95  samsung samsung overview sustainability share ...  \n",
       "96  grow sustainability business company value gov...  \n",
       "97  energy world kogas kogas energy company knowho...  \n",
       "98  sustainability management year sustainability ...  \n",
       "99  introduction introduction introduction introdu...  \n",
       "\n",
       "[100 rows x 3 columns]"
      ]
     },
     "execution_count": 4,
     "metadata": {},
     "output_type": "execute_result"
    }
   ],
   "source": [
    "df"
   ]
  },
  {
   "cell_type": "code",
   "execution_count": 9,
   "id": "cf97d2f1",
   "metadata": {},
   "outputs": [],
   "source": [
    "# directory = '/Users/kangjiwon/Downloads/important_code/TXT_convert/' #제 폴더니까 다시 바꾸세요~\n",
    "# filelist = os.listdir(directory)\n",
    "# df=pd.DataFrame(columns=['filelist','rawdata'])\n",
    "# df['filelist']=filelist\n"
   ]
  },
  {
   "cell_type": "code",
   "execution_count": 10,
   "id": "4a2365fd",
   "metadata": {
    "scrolled": true
   },
   "outputs": [],
   "source": [
    "# for i in range(len(df)):\n",
    "#     j = df['filelist'][i]\n",
    "#     filename = directory + j\n",
    "#     f=open(filename, 'r', encoding='unicode_escape')\n",
    "#     txt = f.read()\n",
    "#     f.close()\n",
    "#     df['rawdata'][i] = txt\n",
    "\n",
    "# df"
   ]
  },
  {
   "cell_type": "code",
   "execution_count": 5,
   "id": "1bb9c186",
   "metadata": {},
   "outputs": [
    {
     "data": {
      "text/plain": [
       "100"
      ]
     },
     "execution_count": 5,
     "metadata": {},
     "output_type": "execute_result"
    }
   ],
   "source": [
    "len(df)"
   ]
  },
  {
   "cell_type": "code",
   "execution_count": 6,
   "id": "efbbe8e1",
   "metadata": {},
   "outputs": [],
   "source": [
    "#수정버전!!!\n",
    "\n",
    "stop_words=nltk.corpus.stopwords.words('english')\n",
    "stop_words=list(set(stop_words).union(set(sklearn_stop_words)))\n",
    "tokenizer=WordPunctTokenizer()\n",
    "lemma = WordNetLemmatizer()\n",
    "remove_bracket=['step','report','reporting']\n",
    "stop_words.extend(remove_bracket)#\n",
    "len(stop_words)\n",
    "def prepro(text):\n",
    "\n",
    "    a=text.lower()\n",
    "    a=re.sub('\\n',' ',a)\n",
    "    a=re.sub('\\r',' ',a)\n",
    "    a=re.sub('\\t',' ',a)\n",
    "    a=re.sub('x0002','',a)\n",
    "    b = re.sub('[^a-zA-Z ]','',a).strip()\n",
    "\n",
    "    tagged_list = pos_tag(tokenizer.tokenize(b))\n",
    "    ad_and_nouns = [t[0] for t in tagged_list if (t[1] == \"NN\")or(t[1]==\"NNP\")]\n",
    "    e_list= [lemma.lemmatize(i) for i in ad_and_nouns]\n",
    "    result=[w for w in e_list if (w not in stop_words) and  (len(w) > 2)]\n",
    "    # remove single character\n",
    "\n",
    "    return result"
   ]
  },
  {
   "cell_type": "code",
   "execution_count": 13,
   "id": "24bb09e8",
   "metadata": {},
   "outputs": [
    {
     "data": {
      "text/plain": [
       "'\\nstop_words=nltk.corpus.stopwords.words(\\'english\\')\\nstop_words=list(set(stop_words).union(set(sklearn_stop_words)))\\ntokenizer=TreebankWordTokenizer()\\nlemma = WordNetLemmatizer()\\n\\nremove_bracket=[\\'[\\',\\']\\',\\'step\\']\\nstop_words.extend(remove_bracket)\\nlen(stop_words)\\n\\ndef prepro(text):\\n    a=text.lower()\\n    b=re.sub(pattern,\\'\\',a)\\n    b=re.sub(r\\'\\\\[\\\\[(?:[^\\\\]|]*\\\\|)?([^\\\\]|]*)\\\\]\\\\]\\', \\'\\', b)\\n    c=re.sub(\\'\\n\\',\\' \\',b)\\n    tagged_list = pos_tag(tokenizer.tokenize(c))\\n    ad_and_nouns = [t[0] for t in tagged_list if (t[1] == \"NN\")or(t[1]==\"NNP\") or(t[1]==\\'JJ\\')]\\n    e_list= [lemma.lemmatize(i) for i in ad_and_nouns]\\n    result=[w for w in e_list if w not in stop_words]\\n#     for w in e_list: \\n#         if w not in stop_words: \\n#             result.append(w)\\n    return result\\n    \\n'"
      ]
     },
     "execution_count": 13,
     "metadata": {},
     "output_type": "execute_result"
    }
   ],
   "source": [
    "'''\n",
    "stop_words=nltk.corpus.stopwords.words('english')\n",
    "stop_words=list(set(stop_words).union(set(sklearn_stop_words)))\n",
    "tokenizer=TreebankWordTokenizer()\n",
    "lemma = WordNetLemmatizer()\n",
    "\n",
    "remove_bracket=['[',']','step']\n",
    "stop_words.extend(remove_bracket)\n",
    "len(stop_words)\n",
    "\n",
    "def prepro(text):\n",
    "    a=text.lower()\n",
    "    b=re.sub(pattern,'',a)\n",
    "    b=re.sub(r'\\[\\[(?:[^\\]|]*\\|)?([^\\]|]*)\\]\\]', '', b)\n",
    "    c=re.sub('\\n',' ',b)\n",
    "    tagged_list = pos_tag(tokenizer.tokenize(c))\n",
    "    ad_and_nouns = [t[0] for t in tagged_list if (t[1] == \"NN\")or(t[1]==\"NNP\") or(t[1]=='JJ')]\n",
    "    e_list= [lemma.lemmatize(i) for i in ad_and_nouns]\n",
    "    result=[w for w in e_list if w not in stop_words]\n",
    "#     for w in e_list: \n",
    "#         if w not in stop_words: \n",
    "#             result.append(w)\n",
    "    return result\n",
    "    \n",
    "'''\n"
   ]
  },
  {
   "cell_type": "code",
   "execution_count": null,
   "id": "3e05fc37",
   "metadata": {},
   "outputs": [],
   "source": [
    "raw=list(df['cleaned'])\n",
    "\n",
    "cleaned=[' '. join(prepro(i)) for i in raw]\n"
   ]
  },
  {
   "cell_type": "code",
   "execution_count": 7,
   "id": "41edcc51",
   "metadata": {},
   "outputs": [],
   "source": [
    "cleaned = df['cleaned']"
   ]
  },
  {
   "cell_type": "code",
   "execution_count": 8,
   "id": "bf1cefb8",
   "metadata": {},
   "outputs": [
    {
     "data": {
      "text/plain": [
       "'bgf sustainability overview description materiality analysis performance progress achievement management publication sustainability disclosure communication management performance scope focus bgf management performance management performance company performance information kirfs case restriction collection scope information annotation period period line year performance performance performance end basis reference area factbook impact erformance business philosophy planet value chain ceo message management brand introduction greenhouse gas business issue product usage management aste reduction expansion management protection management materiality analysis stakeholder governance partner establishment growth ecosystem risk management growth management safety net community development contribution support standard core option iso sustainability development sdgs life thirdparty assurance customer information reliability writing process information assurance assurance institution gwp work place customer management index hirdparty assurance statement overview sustainability establishment platform consumption store convenience store test bed purpose carbon emission store variety energy usage reduction air quality improvement waste discharge reduction greenhouse gas emission reduction facility korea climate change store facility store half highefficiency fan motor door heater controller store industry ministry environment seocho branch store store industry technology institute ministry environment june time industry evaluation operation employee awareness consumption basis enforcement product purchase promotion energy usage half door heater highefficiency sustainability development infrastructure production energy power generation jincheon cdc energy generation power generation mwh bgf retail energy policy response change largescale power generation distribution center electricity electricity power roof center year home year target corporation certification convenience store industry bgf retail energy efficiency inventory estimation energy usage carbon emission country total scope infrastructure installation lighting ecodriving delivery delivery bgf retail delivery time industry delivery carbon carbon comparison motor emission dust carbon dioxide nitrogen bgf retail stepbystep expansion delivery impact evaluation sustainability observation child abuse community safety net convenience store campaign safety net use convenience field hub network prevention finding icu total number percent year increase case accumulation case bgf fact surveillance solution problem child abuse problem context child function emergency collaboration police agency worker scene suspicion child person checklist validity suspicion police campaign awareness need eradication child abuse use campaign bgf retail campaign cooperation child agency account content promotion case customer childhood photograph point family separation overview sustainability relief staff response expansion business platform operation covid pandemic flexibility operation business platform philosophy coexistence technology store recognition technology line contact consumption trend delivery service attempt industry concept convenience store infection distribution platform korea day industry bgf droplet hand generation treatment lead prevention infection communication distancing solidarity morale environment home relief aid quarantine outbreak spread overview bgf sustainability business philosophy business value brand value friend service network business ideology corporation customer contribute development vision friend bgf bgf life business distribution food service environment identity willingness corporation friend life goal friend society bgf company management responsibility life network company brand vision core value passion energy challenge honesty teamwork world confidence reliability tomorrow world service network brand identity energy start spirit perseverance clarity confidence world honesty solution world today tomorrow business rule adherence occasion hesitation conscience company friend society curiosity point lot experience let direction trust cheer pursuit substantiality preparedness crisis generation revenue performance analysis plan implementation brand personality brand trend energy overview bgf sustainability message journey future world company business status sustainability support bgf retail year economy confusion crisis pandemic recovery competitiveness restructuring business reorganization business environment bgf retail revenue performance topnotch level industry vision convenience quality convenience world number korea number convenience standard management certification iso time industry rate evaluation performance year bgf retail business vision bgf friend earth society contemplation profitseekingwhich reason existenceand journey future world head direction result core basis value chain ecosystem growth life future bgf value chain value chain greenhouse gas usage waste bgf retail partner ecosystem growth growth franchise partner value establishment bgf support function responsibility life addition working environment compact labor environment anticorruption achievement development fulf responsibility profitseeking encouragement bgf corporation world thank ceo bgf overview sustainability company brand introduction convenience store chain business business convenience store brand project bgf corporation ceo innovation division merchandising business division development division management planning dept support division communication information supply chain management support business area convenience store chain business franchise headquarters share operating management knowhow franchise trademark service trade business sign train management time franchise responsibility store quality business headquarter franchise ratio revenue franchise franchise business winwin growth franchise headquarters franchise bgf company bgf credit rating headquarter location taeheranro gangnamgu republic korea corporation credit rating employee store staff ceo keonjun asset foundation debt business convenience store chain business capital share stock status company industry location logis warehouse business unit republic korea bgf food manufacturing distribution business unit republic korea bgf humannet worker dispatch task entrustment business dongkyung gil gangnamgu republic korea cfex automobile transportation business mogamaro park icheonsi republic korea performance overview franchise store revenue cost purchase cost franchise headquarters price franchise headquarter franchise fee unit income net incom sustainability role control tower food production highquality food country food manufacturing bgf food management convenience food manufacturing bgf logis service country stability distribution network nation bgf humannet consignment task operation efficiency store management operation support store management capacity ceo yoo ceo heetae park ceo youngchil kim adress unit republic adress unit republic korea adress nonhyeonro gil gangnamgu republic foundation november foundation foundation march employee employee employee overview bgf sustainability brand structure operation group brand convenience store market opening garak seeyoung store time industry network island baengnyeongdo convenience store model brand independence brand korea month beginning day moment rest end day group brand direction brand brand association group brand bgf bgf logis bgf humannet hello nature bgf ecobio coffee culture price quality coffee culture taste coffee cost unbound time location brand category coffee dessert drink cup pleasure taste distribution brand convenience store brand identity delaffe experience convenience variety taste ice brand category drink product brand product brand product value bgf heyroo product brand food experience brand category snack cream milk food overview bgf sustainability malaysia cte divoire kyrgyzstan anytime china hong kong malaysia interview customer kuwait cte divoire kyrgyzstan vietnam palau hong kong republic cote divoire palau employee channel platform mongolia malaysia asia mongolia business issue malaysia company country agreement country knowhow master franchise mfc addition mongolia malaysia distribution convenience store mongolia malaysia bgf retail brand license contract brand lifestyle brand independence listing market disposing case distribution industry history distribution independence loyalty franchiser franchisee april master franchise contract mfc corporation express distribution company premium group corporation mongolia wind power generation store shangrila june operation mongolia space generation fond culture october brand license contract subsidiary corporation market march time convenience store industry center point branch instant kculture convenience bgf business convenience store model technology knowhow bgf business thousand day work overview bgf sustainability restaurant trend collaboration daehan craft gompyo wheat beer industry place beer product market boundary instance freshness pleasure generation combination knowhow convenient food broadcasting content bgf food survival program concept food convenience gourmet day broadcasting convenience country product case industry infra bgf food kitchen knowhow convenient food production broadcasting content total profit contribution convenience store content cutube youtube cutube number industry content generation drama range content youtube twitter era delivery delivery service april increase increase demand purchase service delivery network industry collaboration delivery platform delivery country addition purchase delivery service automobile pickup service introduction convenience environment customer person half delivery service store management esg management bgf vision earth society company sustainability management bgf sustainability management management vision optimization shareholder citizen company policy vision earth society management committee bgf retail management committee foundation growth responsibility management committee organization management bgf committee organization chart chairman board director ceo bgf approval director bgf innovation division director merchandising business division director development division director bgf department adviser professor byungwook lee adviser professor hyunsang group group group management planning division director product headquarters manager bgf communication director management planning team team public team bgf business management team management committee approval earth society environment organization value creation viceminister environment chairman korea institute policy director korea institute policy assessment professor environment university graduate school policy director world fund nature wwf professor hyunsang partner value chain ecosystem growth life greenhouse gas growth gwp work place product usage support providing food waste professor byungwook lee vision management committee organization bgf retail management management place standard responsibility term business term value chain planet ecosystem growth partner life development growth professor business administration university adviser institute director society enterprise management head impact science research center university research area innovation marketing venture value management customer safety privacy support community development function management bgf retail compact labor environment anticorruption responsibility member corporation performance ceo support pledge sustainability development ungc korea association sustainability bgf retail year sustainability business company market level industry governance service evaluation institution classification bgf environment governance management bgf sustainability reduction effect conversion panel development absorption pine esg plastic label waste reduction water bottle label water time industry water bottle label cap hassle label bottle product rate pet reduction plastic vinyl usage vinyl reduction case consumption waste discharge reduction discharge plastic ecofriendliness brand area modification reduction rate industry power plant growth mwh electricity production irst industry bgf panel development facility area distribution center business infra electricity project engagement carbon strategy use power generation work july electricity production end total mwh pla reduction april bgf retail acid pla time industry plastic vinyl half pla soil plastic eggsand management bgf sustainability tighter community safety net business bgf retail franchise store agreement convenience store industry affiliate partnership branch competitiveness franchiseefranchise headquarters partnership agreement bgf retail partnership franchise store franchise headquarter support operation franchise store agreement industry agreement december store insurance freezer fridge compensation insurance responsibility insurance charge investment solution operation addition branch operation support welfare industry lifecycle childbirth childcare welfare mall health care expansion function child abuse child abuse country child abuse police agency seriousness child abuse bgf convenience store cashier dodam dodam campaign hesitation abuse award citizen earnest child abuse case gyeongsang province competitiveness usage demand vitalization specialty expansion demand promotion agreement series food lunch kimbap collaboration entertainment consumption fishery program funstaurant business covid addition channel specialty storm flood covid release guryongpo gwamegi chungnam apple pie duck decoration lunchbox jeju corvina meal horizon winwin relationship convenience management bgf sustainability creation organization culture youth recruitment communication crisis communication culture caf culture course online meeting gardening calligraphy bgf online gettogether communication team communication culture instance board culture intranet bgf retail recruitment year employment growth recruitment size half year internship recruitment safety employment recruitment conversation competency inspection youtube platform addition employment process staff staff employment preparation exemption staff employment customer satisfaction management certification row bgf retail row consumer customer satisfaction management row bgf customer management ccm information safety management customer management row management management consumer service organization strengthening voc monitoring introduction improvement customer center consumer protection customer satisfaction management addition security monitoring work information management bgf sustainability materiality analysis bgf sustainability evaluation gri sdgs ungc core sustainability business issue analysis management performance bgf retail stakeholder materiality analysis process economy environment business esg sdgs iso evaluation research survey promotion management status issue pool consumption material procurement greenhouse gas reduction activation conservation ecosystem community customer privacy transparent affiliate materiality business materiality issue selection customer franchise store business strategy connectivity consideration influence business relevance survey partner company staff analysis community government press distribution industry regulation materiality evaluation survey total survey participation communication coprosperity labor management growth medium customer accessibility convenience governance risk management partner role safety net group survey target scale corporation responsibility partner company company technology partnership survey investigation online survey survey priority importance bgf development survey period worker safety health contribution community survey result bgf responsibility implementation management bgf sustainability materiality analysis matrix topic area gri bgf esg strategy stakeholder page food customer customer privacy safety privacy customer transparent parnter growth franchisee parnter growth franchisee parnter environment waste reduction expansion customer investor customer investor employee staff result materiality materiality analysis stakeholder business importance management direction issue pool value creation addition recognition reaction respecting business materiality management bgf sustainability stakeholder status communication development growth management partner government stakeholder communication information customer homepage customer service center customer customer inquiry complement communication customer staff customer service center homepage customer service center franchisee partner company council homepage company newspaper consulting community bgf retail work communication community government contribution program hotline voc counseling employee community labormanagement council company newspaper webzine newsletter talktalk contribution volunteer shareholder meeting partner company bgf retail growth communication partner growth conference discussion growth direction visiting voc partner communication shareholder franchisee bgf retail company newspaper communication channel franchisee staff publication august communication store operation information exchange interview cooperation improvement area dont use hope selfhelp country cooperation sprout store year province cooperation job project province ministry interior safety disaster relief association government relief consultation cooperation disaster relief year government government ngo conference esg management bgf sustainability development member company citizen bgf management development sdgs sdgs value chain planet sharedgrowth ecosystem life term greenhouse gas greenhouse gas greenhouse gas office percent year greenhouse gas center year center energy usage carbon measurement franchise efficiency energy appliance conversion carbon disclosure project impact inventory establishment impact evaluation product usage pla plastic usage half shopping bag product efficiency grade plastic vinyl usage usage convenient food packaging water waste expiration introduction food waste dispenser introduction food loss rate save foodwaste food manufacturing convenience food packaging introduction affiliate food waste disposal growth agreement partner franchiseparnter company growth program grade growth index support contributing finding dementia employment half employment selfreliance fund alliance platform child safety creation group employment community development function agreement hongcheongun gangwondo emergency relief support volunteer work cooperation farming fishery region continuation work engagement person gwp work place safety health management health committee education communication program response review introduction impact assessment food firstintheindustry implementation frontmarking nutrition release usage sustainability partner company csr monitoring support establishment customer safety privacy time quality safety management certification customer management ccm certification establishment safety management distribution manufacturer quality management ccm certification advancement esg management bgf sustainability governance foundation coordination organization executive work performance level governance structure pursuit development management board center shareholder collect support check ceo appointment agenda deliberation meeting audit agenda deliberation discussing level board shareholder audit committee management information board composition operation board number director attendance rate committee number member attendance rate time case time case audit committee number member attendance rate number time case director candidate recommendation committee member attendance rate time case committee board bgf audit committee director recommendation committee committee board committee board bgf stakeholder law association policy management job performance order decision making management time operation end march board status board chart classification area expertise position career director business company chairman board director director candidate recommendation committee ceo bgf ceo bgf gisung business company director committee director development division bgf director jungguk hong business strategy director myunggwan chairman audit committee attorney law firm prosecutor district office youngchul fair trade chairman director candidate recommendation committee director committee attorney law firm directorgeneral trade commission ceo bgf director management strategy division bgf kim business consumption trend chairman committee director audit committee professor living science university director consumer association bokhyun baek finance director audit committee director director candidate recommendation committee professor business administration university assistant professor state university upervision task operation ppointment change dismissal article association company policy supervisory director candidate recommendation committee ecommendation shareholder meeting alidation director committee xamination approval inspection complementation policy inspection complementation director selection board independence expertise diversity ceo responsibility chairman resolution board requirement decisionmaking accordance law association expertise leadership experience accounting finance business consumption trend trade company management company shareholder order diversity gender race religion region origin board compensation status classification unit member audit committee director audit committee member shareholder meeting compensation compensation person management bgf sustainability risk management bgf retail risk identification process business advance authority information sharing response training capacity environment information franchisee risk management loss organization risk management process risk detection prevention response bgf risk management committee chairman committee consultant attorney professor spokesperson diagnosis recurrence prevention deriving prevention operation plausibility analysis environment prevention risk monitoring department charge risk status analysis planning response risk manager department response decisionmaking preparation risk occurrence risk effect improvement plan recurrence prevention risk impact response risk type risk recurrence prevention analysis cause communication management planning dept key risk management risk management division crisis management group executive secretary management planning management planning team risk management franchisee information employee office building productpartner distribution affiliate environment disaster bgf market credit liquidity stock process department expertise center management efficiency credibility operation transparency task process operation evaluation control evaluation process increase transparency preparation group lawsuit review accounting supervisor increase trust description esg risk management committee committee response order monitoring improvement plan establishment implementation environment iso tft organization impact evaluation disaster safety risk earthquake country management damage spread response scenario office security information security regulation information protection committee head information headquarter manager information security information protection inspection improvement risk time awareness management pledge management signing trade safety accident response response training recognition situation situation crisis level risk management group department recognition supervision department supervision department director level committee departmentcrisis management secretary establishing recovery response director level committee response termination situation crime prevention design management bgf sustainability management influence awareness management likewise awareness aiming corporation management bgf retail establishment operation management organization training advertisement ceo resolute philosophy bgf management diagnosis team charge management company implementation compliance project diagnosis supervision subsidiary management practice corruption management establishment addition compliance management management implementation declaration management implementation employee code adherence compliance law value path relationship benefit work cooperation affiliate information management information partner business misjudgment information information partner company cost company asset profit care cost task operation accordance registration kbei management member company compact support member awareness management fair player action corruption pledge bgf management training awareness year compliance pledge online education importance education mind education conduct money entertainment congratulatory money act prohibition solicitation money education harassment prevention prohibition discrimination education law guide violation case law introduction compliance trade declaration compliance management management management practice management employee code bgf time compliance law partner company growth business solicitation money entertainment affiliate company position embezzlement misappropriation company management shareholder culture trust respect strive life quality composure richness addition bgf letter ceo receipt bribery inhouse auction implantation impairment anonymity audit performance audit regulation audit plan year audit task operation validity process improvement audit management education program completion status employee management education time harassment prevention education person harassment education subject person charge management practice campaign status category management campaign case promotion case management practice campaign category audit case confirmation audit case audit case management bgf sustainability management hotline behavior management hotline corruption malfeasance management reception identity confidentiality department management factchecking investigation management hotline reception mail telephone online investigation factcheck department management reply case category reception status case money reception money gift line management company level requirement korea business kbei anonymity registration management diagnosis occurrence corruption violation reception classification case reporter line management diagnosis team harassment reception delivery description investigation classification case affiliate affiliate company result registration processing harassment submission bgf management diagnosis team delivery description department money company bgf management diagnosis team judgement send auction donation food nonfood team bgf bgf bgf result inquiry handling money reception status case category department money possession letter cooperation request ceo norm practice appreciation money provider representative company anet value chain responsibility citizen management direction carbon dioxide process business production product focus area bgf sustainability management role response change earth environment responsibility environment management greenhouse gas waste discharge management strategy bgf management groupwide management committee implementation management regulation management response fastchanging environment continuation management regulation management monitoring participation management evaluation year management organization management training management goal bgf head management planning esg group leader head merchandising headquarters management group leader charge esg implementation performance management committee quarter training management compliance environment bgf management establishment value chain mid term goal greenhouse gas reduction goal establishment greenhouse gas supply chain management assurance bgf assurance time industry business environment management risk management classification description iso practitioner training management organization management committee management management goal performance risk analysis listing department guidance newsletter establishment implementation response communication management planning dept communication society use environment ideology innovation process business improvement community responsibility information environment business retail iso supply chain accordance management product place recycle assurance evaluation greenhouse gas emission greenhouse gas inventory greenhouse gas use ener energy plastic usage usage plastic usage eco product packaging waste food waste resource rate revision performance usage energy reduction target achievement product place establishment eco test test assurance achievement strengthening communication assurance communication compliance law violation law april greenhouse gas inventory december reduction target focus area bgf sustainability greenhouse gas power generation power generation business response resource depletion pollution supply chain energy energy source electricity greenhouse pollution soil air problem ecosystem destruction fuel mining bgf energy plant distribution center june electricity energy policy climate change electricity energy area roof center electricity year household use price smp energy certif ication rec energy energy reduction irst convenience store industry generation facility electricity generation korea power corporation purchase energy jincheon cdc supply assurance rec compliance obligation percent electricity energy energy generation facility graduation prof itability energy generation effect climate change energy conversion process energy conversion process effect energy connection energy korea power corporation inverter greenhouse gas reduction effect performance reduction effect energy generation energy technology principle photoelectricity conversion energy sun electricity source energy center korea energy management corporation smp price price korea energy management power generation rec energy certification korea energy management corporation recmw energy generation facility place performance target performance target performance target area bgf sustainability management scope level bgf retail day convenience country island room temperature temperature center region delivery consignment management scope actualization infra delivery vehicle control airspoiler ecofan lighting training fuelefficiency incentive operation efficiency optimization delivery distribution center jincheon cdc carbon emission energy reduction automation energy usage process carbon emission management delivery vehicle car employee person bgf logis ownrent ownrent onvenience food manufacturing factory integration delivery route forklift car vehicle car manufacturer manufacturing delivery center delivery carbon dioxide reduction jincheon cdc establishment distribution cdc efficiency partner company energy management scope emission source scope scope scope combustion oil ownrent center consignment center combustion delivery vehicle dedrain cooler air conditioner center consignment center emission power center consignment center operation organization performance bgf scm team greenhouse gas emission source toncoeq greenhouse gas performance krw emission source gcom emission source toncoeq bgf logis management support team bgf logis operation team corporation improvement delivery driver training business implementation energy usage emission source gcotonkm focus area bgf sustainability track process center operation delivery network year industry heart implementation introduction year impact job operation pursuit classification project specification reduction project power plant installation power plant jincheon cdc carbon generation mwh ecofan introduction completion total june eco fan electricity consumption effect ecofan fan energy eff iciency center mass air fan effect eco fan network project delivery vehicle delivery carbon reduction combustion emission air dust nox campaign education consumption total june installation installation delivery truck introduction introduction operation vehicle center establishment delivery network cdc establishment distance vehicle delivery delivery distance independence center equipment equipment diesel contribution reduction electricity exchange nextgeneration automation energy usage carbon delivery calculation fuelefficiency incentive driving fuel efficiency training meeting emission air carbon reduction comparison combustion engine energy usage carbon c'"
      ]
     },
     "execution_count": 8,
     "metadata": {},
     "output_type": "execute_result"
    }
   ],
   "source": [
    "cleaned[10]"
   ]
  },
  {
   "cell_type": "code",
   "execution_count": 77,
   "id": "bc02bb2a",
   "metadata": {},
   "outputs": [],
   "source": [
    "df['cleaned_ceo'] =cleaned"
   ]
  },
  {
   "cell_type": "code",
   "execution_count": 9,
   "id": "0feadf29",
   "metadata": {
    "scrolled": true
   },
   "outputs": [
    {
     "name": "stdout",
     "output_type": "stream",
     "text": [
      "문서의 최대 길이 : 32767\n",
      "문서의 평균 길이 : 32369.48\n"
     ]
    },
    {
     "data": {
      "image/png": "[encoded data removed]",
      "text/plain": [
       "<Figure size 432x288 with 1 Axes>"
      ]
     },
     "metadata": {
      "needs_background": "light"
     },
     "output_type": "display_data"
    }
   ],
   "source": [
    "# 문장의 길이 분포 확인\n",
    "import matplotlib.pyplot as plt\n",
    "\n",
    "print('문서의 최대 길이 :',max(len(l) for l in cleaned))\n",
    "print('문서의 평균 길이 :',sum(map(len, cleaned))/len(cleaned))\n",
    "plt.hist([len(s) for s in cleaned], bins=10)\n",
    "plt.xlabel('length of texts')\n",
    "plt.ylabel('number of texs')\n",
    "plt.show()"
   ]
  },
  {
   "cell_type": "code",
   "execution_count": 17,
   "id": "d2c99270",
   "metadata": {},
   "outputs": [],
   "source": [
    "# import pickle\n",
    "# df.to_pickle('전처리.pickle')"
   ]
  },
  {
   "cell_type": "code",
   "execution_count": 18,
   "id": "f4442066",
   "metadata": {},
   "outputs": [],
   "source": [
    "#df.to_excel('전처리.xlsx')"
   ]
  },
  {
   "cell_type": "markdown",
   "id": "c298a288",
   "metadata": {},
   "source": [
    "## word2vec"
   ]
  },
  {
   "cell_type": "code",
   "execution_count": null,
   "id": "b99cc455",
   "metadata": {},
   "outputs": [],
   "source": [
    "\n",
    "\n",
    "import gensim\n",
    "from gensim.models import KeyedVectors\n",
    "\n",
    "DIM=100          #차원수\n",
    "WINDOW_SIZE=10   #학습되는 주변단어 수\n",
    "EPOCH =200       #반복학습 횟수\n",
    "\n",
    "text = [i.strip().split() for i in df['cleaned'].tolist()]\n",
    "\n",
    "#word2vec model create\n",
    "model = gensim.models.Word2Vec(text, vector_size = DIM,\n",
    "                            min_count=10, window = WINDOW_SIZE,  #min_count는 빈도기준 학습제외\n",
    "                            sg=1,epochs = EPOCH)     #sg=1 은 skip_gram, sg=0은 bag-of-bow\n",
    "\n",
    "model.wv.save(\"word2vec_1016_2.bin\")\n"
   ]
  },
  {
   "cell_type": "code",
   "execution_count": 17,
   "id": "7918d550",
   "metadata": {},
   "outputs": [
    {
     "name": "stdout",
     "output_type": "stream",
     "text": [
      "[-0.01979035 -0.2022822   0.0154109  -0.21128556  0.00128701 -0.16822506\n",
      "  0.12666264 -0.01639372  0.18871893 -0.01215224 -0.20061935  0.04357682\n",
      "  0.23121369  0.07473302  0.12774846 -0.20908229 -0.04306388 -0.3519156\n",
      "  0.04376911  0.00736799 -0.16694109 -0.1598649  -0.16426274 -0.10390685\n",
      " -0.0959886  -0.2415166   0.00513909  0.12590948  0.15344773 -0.11523854\n",
      "  0.23818558 -0.02642084 -0.10162222 -0.13731527 -0.04817465 -0.06704307\n",
      "  0.06347515  0.00872978  0.14785022 -0.11522189 -0.26825705 -0.28574812\n",
      " -0.19856626  0.16521484 -0.09270272  0.11443879 -0.14445966 -0.03873289\n",
      "  0.04151031  0.06834382 -0.21484028 -0.00323423 -0.03482936  0.16957477\n",
      "  0.12565735  0.14952374  0.01906773 -0.04009636 -0.09396315 -0.0249883\n",
      " -0.08467843 -0.00147022  0.12289436 -0.07241032 -0.00387341 -0.07797681\n",
      " -0.13300447  0.00601782 -0.28419524  0.44789362  0.01725108 -0.01069722\n",
      " -0.00696684  0.14875384  0.11208578  0.03191044 -0.23211494  0.03986013\n",
      " -0.26329327 -0.41158542  0.15790513  0.15052412 -0.01739147 -0.02428548\n",
      " -0.06362905  0.15542328  0.06666371  0.3460135   0.12702218 -0.06635204\n",
      "  0.1587447  -0.05202283 -0.14826263 -0.19135961 -0.02467754  0.12188732\n",
      "  0.00285927 -0.13012543 -0.08560832  0.08526327]\n"
     ]
    }
   ],
   "source": [
    "\n",
    "# 저장한 모델 다시 load\n",
    "wv = KeyedVectors.load(\"word2vec_1016.bin\", mmap='r')\n",
    "\n",
    "\n",
    "vector = wv['environment']  # Get numpy vector of a word\n",
    "\n",
    "print(vector)\n"
   ]
  },
  {
   "cell_type": "code",
   "execution_count": 21,
   "id": "664d0abe",
   "metadata": {},
   "outputs": [
    {
     "name": "stdout",
     "output_type": "stream",
     "text": [
      "[('safety', 0.735852062702179), ('management', 0.7107547521591187), ('society', 0.6941480040550232), ('workplace', 0.6643203496932983), ('health', 0.6430657505989075), ('responsibility', 0.6110721826553345), ('change', 0.5999689698219299), ('sustainability', 0.593680202960968), ('community', 0.5885955095291138), ('business', 0.5840747952461243)]\n"
     ]
    }
   ],
   "source": [
    "model_result= wv.most_similar('environment')\n",
    "print(model_result)"
   ]
  },
  {
   "cell_type": "code",
   "execution_count": 31,
   "id": "2c56edcc",
   "metadata": {},
   "outputs": [
    {
     "data": {
      "text/plain": [
       "<gensim.models.keyedvectors.KeyedVectors at 0x207b471b4c0>"
      ]
     },
     "execution_count": 31,
     "metadata": {},
     "output_type": "execute_result"
    }
   ],
   "source": [
    "model"
   ]
  },
  {
   "cell_type": "code",
   "execution_count": 33,
   "id": "c8f74c04",
   "metadata": {},
   "outputs": [],
   "source": [
    "model = KeyedVectors.load(\"word2vec_1016.bin\", mmap='r')"
   ]
  },
  {
   "cell_type": "code",
   "execution_count": null,
   "id": "bcaf0f2e",
   "metadata": {},
   "outputs": [],
   "source": [
    "#시각적으로 결과 확인\n",
    "\n",
    "from sklearn.decomposition import IncrementalPCA    # inital reduction\n",
    "from sklearn.manifold import TSNE                   # final reduction\n",
    "import numpy as np                                  # array handling\n",
    "\n",
    "#2 차원 시각화\n",
    "def reduce_dimensions(model):\n",
    "    num_dimensions = 2  # final num dimensions (2D, 3D, etc)\n",
    "\n",
    "    # numpy arrays로 단어와 벡터 추출\n",
    "    vectors = np.asarray(model.wv.vectors)\n",
    "    labels = np.asarray(model.wv.index_to_key)  # fixed-width numpy strings\n",
    "\n",
    "    # t-SNE으로 차원 축소\n",
    "    tsne = TSNE(n_components=num_dimensions, random_state=0)\n",
    "    vectors = tsne.fit_transform(vectors)\n",
    "\n",
    "    x_vals = [v[0] for v in vectors]\n",
    "    y_vals = [v[1] for v in vectors]\n",
    "    return x_vals, y_vals, labels\n",
    "\n",
    "\n",
    "x_vals, y_vals, labels = reduce_dimensions(model)\n",
    "\n",
    "def plot_with_plotly(x_vals, y_vals, labels, plot_in_notebook=True):\n",
    "    from plotly.offline import init_notebook_mode, iplot, plot\n",
    "    import plotly.graph_objs as go\n",
    "\n",
    "    trace = go.Scatter(x=x_vals, y=y_vals, mode='text', text=labels)\n",
    "    data = [trace]\n",
    "\n",
    "    if plot_in_notebook:\n",
    "        init_notebook_mode(connected=True)\n",
    "        iplot(data, filename='word-embedding-plot')\n",
    "    else:\n",
    "        plot(data, filename='word-embedding-plot.html')\n",
    "\n",
    "\n",
    "def plot_with_matplotlib(x_vals, y_vals, labels):\n",
    "    import matplotlib.pyplot as plt\n",
    "    import random\n",
    "\n",
    "    random.seed(0)\n",
    "\n",
    "    plt.figure(figsize=(12, 12))\n",
    "    plt.scatter(x_vals, y_vals)\n",
    "\n",
    "    \n",
    "    # randomly subsampled 25 data points로 표시\n",
    "    \n",
    "    indices = list(range(len(labels)))\n",
    "    selected_indices = random.sample(indices, 25)\n",
    "    for i in selected_indices:\n",
    "        plt.annotate(labels[i], (x_vals[i], y_vals[i]))\n",
    "\n",
    "try:\n",
    "    get_ipython()\n",
    "except Exception:\n",
    "    plot_function = plot_with_matplotlib\n",
    "else:\n",
    "    plot_function = plot_with_plotly\n",
    "\n",
    "plot_function(x_vals, y_vals, labels)"
   ]
  }
 ],
 "metadata": {
  "interpreter": {
   "hash": "dc4cb51046b5730eccdebbac3fcc03a5de78bd3fb599443e44d1810e5c7dd8cd"
  },
  "kernelspec": {
   "display_name": "Python 3",
   "language": "python",
   "name": "python3"
  },
  "language_info": {
   "codemirror_mode": {
    "name": "ipython",
    "version": 3
   },
   "file_extension": ".py",
   "mimetype": "text/x-python",
   "name": "python",
   "nbconvert_exporter": "python",
   "pygments_lexer": "ipython3",
   "version": "3.8.8"
  }
 },
 "nbformat": 4,
 "nbformat_minor": 5
}
