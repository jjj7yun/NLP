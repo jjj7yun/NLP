{
 "cells": [
  {
   "cell_type": "code",
   "execution_count": 1,
   "metadata": {},
   "outputs": [],
   "source": [
    "import pandas as pd"
   ]
  },
  {
   "cell_type": "code",
   "execution_count": 2,
   "metadata": {},
   "outputs": [],
   "source": [
    "test=pd.read_excel('report_to_80.xlsx')"
   ]
  },
  {
   "cell_type": "code",
   "execution_count": 3,
   "metadata": {},
   "outputs": [
    {
     "data": {
      "text/html": [
       "<div>\n",
       "<style scoped>\n",
       "    .dataframe tbody tr th:only-of-type {\n",
       "        vertical-align: middle;\n",
       "    }\n",
       "\n",
       "    .dataframe tbody tr th {\n",
       "        vertical-align: top;\n",
       "    }\n",
       "\n",
       "    .dataframe thead th {\n",
       "        text-align: right;\n",
       "    }\n",
       "</style>\n",
       "<table border=\"1\" class=\"dataframe\">\n",
       "  <thead>\n",
       "    <tr style=\"text-align: right;\">\n",
       "      <th></th>\n",
       "      <th>Unnamed: 0</th>\n",
       "      <th>종목명</th>\n",
       "      <th>is or not</th>\n",
       "      <th>현재가</th>\n",
       "      <th>시가총액</th>\n",
       "      <th>상장주식수</th>\n",
       "      <th>외국인비율</th>\n",
       "      <th>CEO Message</th>\n",
       "      <th>Materiality Assessment</th>\n",
       "      <th>SDGs</th>\n",
       "      <th>Unnamed: 10</th>\n",
       "      <th># of report</th>\n",
       "      <th># of sdgs</th>\n",
       "    </tr>\n",
       "  </thead>\n",
       "  <tbody>\n",
       "    <tr>\n",
       "      <th>0</th>\n",
       "      <td>NaN</td>\n",
       "      <td>NaN</td>\n",
       "      <td>NaN</td>\n",
       "      <td>NaN</td>\n",
       "      <td>NaN</td>\n",
       "      <td>NaN</td>\n",
       "      <td>NaN</td>\n",
       "      <td>NaN</td>\n",
       "      <td>NaN</td>\n",
       "      <td>NaN</td>\n",
       "      <td>NaN</td>\n",
       "      <td>63.0</td>\n",
       "      <td>51.0</td>\n",
       "    </tr>\n",
       "    <tr>\n",
       "      <th>1</th>\n",
       "      <td>1.0</td>\n",
       "      <td>삼성전자</td>\n",
       "      <td>1.0</td>\n",
       "      <td>76900.0</td>\n",
       "      <td>4590763.0</td>\n",
       "      <td>5969783.0</td>\n",
       "      <td>51.88</td>\n",
       "      <td>Dear shareholders, customers, suppliers, and e...</td>\n",
       "      <td>We identify sustainability issues that impact ...</td>\n",
       "      <td>3,4,5,6,7,8,9,10,12,13,15,17</td>\n",
       "      <td>NaN</td>\n",
       "      <td>NaN</td>\n",
       "      <td>NaN</td>\n",
       "    </tr>\n",
       "    <tr>\n",
       "      <th>2</th>\n",
       "      <td>2.0</td>\n",
       "      <td>SK하이닉스</td>\n",
       "      <td>1.0</td>\n",
       "      <td>107000.0</td>\n",
       "      <td>778963.0</td>\n",
       "      <td>728002.0</td>\n",
       "      <td>46.71</td>\n",
       "      <td>Even amidst the worldwide COVID-19 pandemic i...</td>\n",
       "      <td>SK hynix has identified a pool of ESG issues t...</td>\n",
       "      <td>1,3,4,5,6,7,8,9,10,11,12,13,16</td>\n",
       "      <td>NaN</td>\n",
       "      <td>NaN</td>\n",
       "      <td>NaN</td>\n",
       "    </tr>\n",
       "    <tr>\n",
       "      <th>3</th>\n",
       "      <td>3.0</td>\n",
       "      <td>NAVER</td>\n",
       "      <td>1.0</td>\n",
       "      <td>403500.0</td>\n",
       "      <td>662803.0</td>\n",
       "      <td>164263.0</td>\n",
       "      <td>56.59</td>\n",
       "      <td>Greetings,\\nI am Seong-sook Han, the President...</td>\n",
       "      <td>Materiality Matrix\\nTier 3 General issues\\nTie...</td>\n",
       "      <td>4,5,7,8,12,13,16</td>\n",
       "      <td>NaN</td>\n",
       "      <td>NaN</td>\n",
       "      <td>NaN</td>\n",
       "    </tr>\n",
       "    <tr>\n",
       "      <th>4</th>\n",
       "      <td>4.0</td>\n",
       "      <td>삼성바이오로직스</td>\n",
       "      <td>1.0</td>\n",
       "      <td>923000.0</td>\n",
       "      <td>610703.0</td>\n",
       "      <td>66165.0</td>\n",
       "      <td>10.59</td>\n",
       "      <td>Dear fellow stakeholders, I would like to expr...</td>\n",
       "      <td>Samsung Biologics evaluated each issue based o...</td>\n",
       "      <td>3,4,5,6,7,8,9,12,13,15,16</td>\n",
       "      <td>NaN</td>\n",
       "      <td>NaN</td>\n",
       "      <td>NaN</td>\n",
       "    </tr>\n",
       "  </tbody>\n",
       "</table>\n",
       "</div>"
      ],
      "text/plain": [
       "   Unnamed: 0       종목명  is or not       현재가       시가총액      상장주식수  외국인비율  \\\n",
       "0         NaN       NaN        NaN       NaN        NaN        NaN    NaN   \n",
       "1         1.0      삼성전자        1.0   76900.0  4590763.0  5969783.0  51.88   \n",
       "2         2.0    SK하이닉스        1.0  107000.0   778963.0   728002.0  46.71   \n",
       "3         3.0     NAVER        1.0  403500.0   662803.0   164263.0  56.59   \n",
       "4         4.0  삼성바이오로직스        1.0  923000.0   610703.0    66165.0  10.59   \n",
       "\n",
       "                                         CEO Message  \\\n",
       "0                                                NaN   \n",
       "1  Dear shareholders, customers, suppliers, and e...   \n",
       "2   Even amidst the worldwide COVID-19 pandemic i...   \n",
       "3  Greetings,\\nI am Seong-sook Han, the President...   \n",
       "4  Dear fellow stakeholders, I would like to expr...   \n",
       "\n",
       "                              Materiality Assessment  \\\n",
       "0                                                NaN   \n",
       "1  We identify sustainability issues that impact ...   \n",
       "2  SK hynix has identified a pool of ESG issues t...   \n",
       "3  Materiality Matrix\\nTier 3 General issues\\nTie...   \n",
       "4  Samsung Biologics evaluated each issue based o...   \n",
       "\n",
       "                             SDGs  Unnamed: 10  # of report  # of sdgs  \n",
       "0                             NaN          NaN         63.0       51.0  \n",
       "1    3,4,5,6,7,8,9,10,12,13,15,17          NaN          NaN        NaN  \n",
       "2  1,3,4,5,6,7,8,9,10,11,12,13,16          NaN          NaN        NaN  \n",
       "3                4,5,7,8,12,13,16          NaN          NaN        NaN  \n",
       "4       3,4,5,6,7,8,9,12,13,15,16          NaN          NaN        NaN  "
      ]
     },
     "execution_count": 3,
     "metadata": {},
     "output_type": "execute_result"
    }
   ],
   "source": [
    "test.head()"
   ]
  },
  {
   "cell_type": "code",
   "execution_count": 4,
   "metadata": {},
   "outputs": [
    {
     "data": {
      "text/html": [
       "<div>\n",
       "<style scoped>\n",
       "    .dataframe tbody tr th:only-of-type {\n",
       "        vertical-align: middle;\n",
       "    }\n",
       "\n",
       "    .dataframe tbody tr th {\n",
       "        vertical-align: top;\n",
       "    }\n",
       "\n",
       "    .dataframe thead th {\n",
       "        text-align: right;\n",
       "    }\n",
       "</style>\n",
       "<table border=\"1\" class=\"dataframe\">\n",
       "  <thead>\n",
       "    <tr style=\"text-align: right;\">\n",
       "      <th></th>\n",
       "      <th>종목명</th>\n",
       "      <th>CEO Message</th>\n",
       "      <th>Materiality Assessment</th>\n",
       "      <th>SDGs</th>\n",
       "    </tr>\n",
       "  </thead>\n",
       "  <tbody>\n",
       "    <tr>\n",
       "      <th>0</th>\n",
       "      <td>NaN</td>\n",
       "      <td>NaN</td>\n",
       "      <td>NaN</td>\n",
       "      <td>NaN</td>\n",
       "    </tr>\n",
       "    <tr>\n",
       "      <th>1</th>\n",
       "      <td>삼성전자</td>\n",
       "      <td>Dear shareholders, customers, suppliers, and e...</td>\n",
       "      <td>We identify sustainability issues that impact ...</td>\n",
       "      <td>3,4,5,6,7,8,9,10,12,13,15,17</td>\n",
       "    </tr>\n",
       "    <tr>\n",
       "      <th>2</th>\n",
       "      <td>SK하이닉스</td>\n",
       "      <td>Even amidst the worldwide COVID-19 pandemic i...</td>\n",
       "      <td>SK hynix has identified a pool of ESG issues t...</td>\n",
       "      <td>1,3,4,5,6,7,8,9,10,11,12,13,16</td>\n",
       "    </tr>\n",
       "    <tr>\n",
       "      <th>3</th>\n",
       "      <td>NAVER</td>\n",
       "      <td>Greetings,\\nI am Seong-sook Han, the President...</td>\n",
       "      <td>Materiality Matrix\\nTier 3 General issues\\nTie...</td>\n",
       "      <td>4,5,7,8,12,13,16</td>\n",
       "    </tr>\n",
       "    <tr>\n",
       "      <th>4</th>\n",
       "      <td>삼성바이오로직스</td>\n",
       "      <td>Dear fellow stakeholders, I would like to expr...</td>\n",
       "      <td>Samsung Biologics evaluated each issue based o...</td>\n",
       "      <td>3,4,5,6,7,8,9,12,13,15,16</td>\n",
       "    </tr>\n",
       "  </tbody>\n",
       "</table>\n",
       "</div>"
      ],
      "text/plain": [
       "        종목명                                        CEO Message  \\\n",
       "0       NaN                                                NaN   \n",
       "1      삼성전자  Dear shareholders, customers, suppliers, and e...   \n",
       "2    SK하이닉스   Even amidst the worldwide COVID-19 pandemic i...   \n",
       "3     NAVER  Greetings,\\nI am Seong-sook Han, the President...   \n",
       "4  삼성바이오로직스  Dear fellow stakeholders, I would like to expr...   \n",
       "\n",
       "                              Materiality Assessment  \\\n",
       "0                                                NaN   \n",
       "1  We identify sustainability issues that impact ...   \n",
       "2  SK hynix has identified a pool of ESG issues t...   \n",
       "3  Materiality Matrix\\nTier 3 General issues\\nTie...   \n",
       "4  Samsung Biologics evaluated each issue based o...   \n",
       "\n",
       "                             SDGs  \n",
       "0                             NaN  \n",
       "1    3,4,5,6,7,8,9,10,12,13,15,17  \n",
       "2  1,3,4,5,6,7,8,9,10,11,12,13,16  \n",
       "3                4,5,7,8,12,13,16  \n",
       "4       3,4,5,6,7,8,9,12,13,15,16  "
      ]
     },
     "execution_count": 4,
     "metadata": {},
     "output_type": "execute_result"
    }
   ],
   "source": [
    "df=test[['종목명','CEO Message','Materiality Assessment','SDGs']]\n",
    "df.head()"
   ]
  },
  {
   "cell_type": "code",
   "execution_count": 5,
   "metadata": {},
   "outputs": [
    {
     "data": {
      "text/plain": [
       "84"
      ]
     },
     "execution_count": 5,
     "metadata": {},
     "output_type": "execute_result"
    }
   ],
   "source": [
    "len(df)"
   ]
  },
  {
   "cell_type": "code",
   "execution_count": 6,
   "metadata": {},
   "outputs": [
    {
     "name": "stderr",
     "output_type": "stream",
     "text": [
      "<ipython-input-6-a829e89aba99>:1: SettingWithCopyWarning: \n",
      "A value is trying to be set on a copy of a slice from a DataFrame\n",
      "\n",
      "See the caveats in the documentation: https://pandas.pydata.org/pandas-docs/stable/user_guide/indexing.html#returning-a-view-versus-a-copy\n",
      "  df.dropna(how='any',axis=0,inplace=True)\n"
     ]
    }
   ],
   "source": [
    "df.dropna(how='any',axis=0,inplace=True)"
   ]
  },
  {
   "cell_type": "code",
   "execution_count": 7,
   "metadata": {},
   "outputs": [
    {
     "data": {
      "text/plain": [
       "51"
      ]
     },
     "execution_count": 7,
     "metadata": {},
     "output_type": "execute_result"
    }
   ],
   "source": [
    "len(df)"
   ]
  },
  {
   "cell_type": "code",
   "execution_count": 8,
   "metadata": {},
   "outputs": [
    {
     "data": {
      "text/html": [
       "<div>\n",
       "<style scoped>\n",
       "    .dataframe tbody tr th:only-of-type {\n",
       "        vertical-align: middle;\n",
       "    }\n",
       "\n",
       "    .dataframe tbody tr th {\n",
       "        vertical-align: top;\n",
       "    }\n",
       "\n",
       "    .dataframe thead th {\n",
       "        text-align: right;\n",
       "    }\n",
       "</style>\n",
       "<table border=\"1\" class=\"dataframe\">\n",
       "  <thead>\n",
       "    <tr style=\"text-align: right;\">\n",
       "      <th></th>\n",
       "      <th>종목명</th>\n",
       "      <th>CEO Message</th>\n",
       "      <th>Materiality Assessment</th>\n",
       "      <th>SDGs</th>\n",
       "    </tr>\n",
       "  </thead>\n",
       "  <tbody>\n",
       "    <tr>\n",
       "      <th>1</th>\n",
       "      <td>삼성전자</td>\n",
       "      <td>Dear shareholders, customers, suppliers, and e...</td>\n",
       "      <td>We identify sustainability issues that impact ...</td>\n",
       "      <td>3,4,5,6,7,8,9,10,12,13,15,17</td>\n",
       "    </tr>\n",
       "    <tr>\n",
       "      <th>2</th>\n",
       "      <td>SK하이닉스</td>\n",
       "      <td>Even amidst the worldwide COVID-19 pandemic i...</td>\n",
       "      <td>SK hynix has identified a pool of ESG issues t...</td>\n",
       "      <td>1,3,4,5,6,7,8,9,10,11,12,13,16</td>\n",
       "    </tr>\n",
       "    <tr>\n",
       "      <th>3</th>\n",
       "      <td>NAVER</td>\n",
       "      <td>Greetings,\\nI am Seong-sook Han, the President...</td>\n",
       "      <td>Materiality Matrix\\nTier 3 General issues\\nTie...</td>\n",
       "      <td>4,5,7,8,12,13,16</td>\n",
       "    </tr>\n",
       "    <tr>\n",
       "      <th>4</th>\n",
       "      <td>삼성바이오로직스</td>\n",
       "      <td>Dear fellow stakeholders, I would like to expr...</td>\n",
       "      <td>Samsung Biologics evaluated each issue based o...</td>\n",
       "      <td>3,4,5,6,7,8,9,12,13,15,16</td>\n",
       "    </tr>\n",
       "    <tr>\n",
       "      <th>6</th>\n",
       "      <td>카카오</td>\n",
       "      <td>I would like to extend my heartfelt\\ngratitude...</td>\n",
       "      <td>In publishing our first-ever Commitment and Re...</td>\n",
       "      <td>4,7,8,12,13,16,17</td>\n",
       "    </tr>\n",
       "  </tbody>\n",
       "</table>\n",
       "</div>"
      ],
      "text/plain": [
       "        종목명                                        CEO Message  \\\n",
       "1      삼성전자  Dear shareholders, customers, suppliers, and e...   \n",
       "2    SK하이닉스   Even amidst the worldwide COVID-19 pandemic i...   \n",
       "3     NAVER  Greetings,\\nI am Seong-sook Han, the President...   \n",
       "4  삼성바이오로직스  Dear fellow stakeholders, I would like to expr...   \n",
       "6       카카오  I would like to extend my heartfelt\\ngratitude...   \n",
       "\n",
       "                              Materiality Assessment  \\\n",
       "1  We identify sustainability issues that impact ...   \n",
       "2  SK hynix has identified a pool of ESG issues t...   \n",
       "3  Materiality Matrix\\nTier 3 General issues\\nTie...   \n",
       "4  Samsung Biologics evaluated each issue based o...   \n",
       "6  In publishing our first-ever Commitment and Re...   \n",
       "\n",
       "                             SDGs  \n",
       "1    3,4,5,6,7,8,9,10,12,13,15,17  \n",
       "2  1,3,4,5,6,7,8,9,10,11,12,13,16  \n",
       "3                4,5,7,8,12,13,16  \n",
       "4       3,4,5,6,7,8,9,12,13,15,16  \n",
       "6               4,7,8,12,13,16,17  "
      ]
     },
     "execution_count": 8,
     "metadata": {},
     "output_type": "execute_result"
    }
   ],
   "source": [
    "df.head()"
   ]
  },
  {
   "cell_type": "markdown",
   "metadata": {},
   "source": [
    "## SDGs 변환"
   ]
  },
  {
   "cell_type": "code",
   "execution_count": null,
   "metadata": {},
   "outputs": [],
   "source": [
    "df.SDGs.isnull().sum()"
   ]
  },
  {
   "cell_type": "code",
   "execution_count": null,
   "metadata": {},
   "outputs": [],
   "source": [
    "sdgs=df.SDGs.to_list()"
   ]
  },
  {
   "cell_type": "code",
   "execution_count": null,
   "metadata": {},
   "outputs": [],
   "source": [
    "len(sdgs)"
   ]
  },
  {
   "cell_type": "code",
   "execution_count": null,
   "metadata": {},
   "outputs": [],
   "source": [
    "data=[]\n",
    "\n",
    "for i in sdgs:\n",
    "    a=i.split(',')\n",
    "    data.append(a)\n",
    "data[:10]"
   ]
  },
  {
   "cell_type": "code",
   "execution_count": null,
   "metadata": {},
   "outputs": [],
   "source": [
    "new_data=[]\n",
    "for i in data:\n",
    "    tmp=[]\n",
    "    for j in range(0,17):\n",
    "        if str(j+1) in i:\n",
    "            tmp.append(1)\n",
    "        else:\n",
    "            tmp.append(0)\n",
    "    new_data.append(tmp)"
   ]
  },
  {
   "cell_type": "code",
   "execution_count": null,
   "metadata": {},
   "outputs": [],
   "source": [
    "len(new_data)"
   ]
  },
  {
   "cell_type": "code",
   "execution_count": null,
   "metadata": {},
   "outputs": [],
   "source": [
    "df_sdg = pd.DataFrame(data=new_data, columns=[\"s1\",\"s2\",\"s3\",\n",
    "\"s4\",\"s5\",\"s6\",\"s7\",\"s8\",\"s9\",\"s10\",\"s11\",\"s12\",\"s13\",\"s14\",\"s15\",\"s16\",\"s17\"])"
   ]
  },
  {
   "cell_type": "code",
   "execution_count": null,
   "metadata": {},
   "outputs": [],
   "source": [
    "df_sdg"
   ]
  },
  {
   "cell_type": "code",
   "execution_count": null,
   "metadata": {},
   "outputs": [],
   "source": [
    "df_sdg.to_excel('sdg_result.xlsx')"
   ]
  },
  {
   "cell_type": "markdown",
   "metadata": {},
   "source": [
    "## 텍스트 전처리"
   ]
  },
  {
   "cell_type": "markdown",
   "metadata": {},
   "source": [
    "## change!!"
   ]
  },
  {
   "cell_type": "code",
   "execution_count": 9,
   "metadata": {},
   "outputs": [],
   "source": [
    "import nltk\n",
    "#from nltk.tokenize import TreebankWordTokenizer\n",
    "from nltk.tokenize import WordPunctTokenizer \n",
    "from nltk.stem import WordNetLemmatizer\n",
    "from nltk.tag import pos_tag\n",
    "\n",
    "from sklearn.feature_extraction.text import ENGLISH_STOP_WORDS as sklearn_stop_words\n",
    "import re"
   ]
  },
  {
   "cell_type": "code",
   "execution_count": 10,
   "metadata": {},
   "outputs": [],
   "source": [
    "ceo=list(df['CEO Message'])\n",
    "material=list(df['Materiality Assessment'])"
   ]
  },
  {
   "cell_type": "code",
   "execution_count": 11,
   "metadata": {},
   "outputs": [
    {
     "name": "stdout",
     "output_type": "stream",
     "text": [
      "51\n",
      "51\n"
     ]
    }
   ],
   "source": [
    "print(len(ceo))\n",
    "print(len(material))"
   ]
  },
  {
   "cell_type": "code",
   "execution_count": 12,
   "metadata": {},
   "outputs": [],
   "source": [
    "stop_words=nltk.corpus.stopwords.words('english')\n",
    "stop_words=list(set(stop_words).union(set(sklearn_stop_words)))\n",
    "tokenizer=WordPunctTokenizer()\n",
    "lemma = WordNetLemmatizer()"
   ]
  },
  {
   "cell_type": "markdown",
   "metadata": {},
   "source": [
    "## change!! 'report', 'reporting' appended!!"
   ]
  },
  {
   "cell_type": "code",
   "execution_count": 13,
   "metadata": {},
   "outputs": [
    {
     "data": {
      "text/plain": [
       "381"
      ]
     },
     "execution_count": 13,
     "metadata": {},
     "output_type": "execute_result"
    }
   ],
   "source": [
    "remove_bracket=['step','report','reporting']\n",
    "stop_words.extend(remove_bracket)#\n",
    "len(stop_words)"
   ]
  },
  {
   "cell_type": "markdown",
   "metadata": {},
   "source": [
    "## Full change!! Only English Characters!!"
   ]
  },
  {
   "cell_type": "code",
   "execution_count": 14,
   "metadata": {},
   "outputs": [],
   "source": [
    "def prepro(text):\n",
    "\n",
    "    a=text.lower()\n",
    "    a=re.sub('\\n',' ',a)\n",
    "    a=re.sub('x0002','',a)\n",
    "    b = re.sub('[^a-zA-Z ]','',a).strip()\n",
    "\n",
    "    tagged_list = pos_tag(tokenizer.tokenize(b))\n",
    "    ad_and_nouns = [t[0] for t in tagged_list if (t[1] == \"NN\")or(t[1]==\"NNP\")]\n",
    "    e_list= [lemma.lemmatize(i) for i in ad_and_nouns]\n",
    "    result=[w for w in e_list if (w not in stop_words) and  (len(w) > 2)]\n",
    "    # remove single character\n",
    "\n",
    "    return result\n",
    "\n",
    "    "
   ]
  },
  {
   "cell_type": "code",
   "execution_count": 15,
   "metadata": {},
   "outputs": [
    {
     "data": {
      "text/plain": [
       "'Dear shareholders, customers, suppliers, and employees of Samsung Electronics, we thank you for your continuous support and interest in our company.\\nIn 2020, the COVID-19 pandemic shook the world, fueling an unprec- edented public health crisis and prompting an economic slowdown as nations closed borders and implemented new safety measures to protect their populations. At the same time, the damaging effects of racial discrimination and a prevalent digital divide have become strikingly clear, while the importance of tackling climate change continues to grow.\\nAgainst the backdrop of these unprecedented times, it is no surprise that consumer behavior has changed, with priorities shifting to focus on areas such as health, safety, and sustainability. Expectations also continue to grow on corporations for sustainable business practices and operations.\\nAs a `sustainable, centennial company\\', we need to grow together with society to ensure we create a lasting legacy for future genera- tions to come. We have worked hard at every level to help our various stakeholders, supporting local communities and employees overcome challenges and adapt to the new environment as we return to our daily lives in a post-pandemic world.\\nWe provided financial support to suppliers struggling from the COVID-19 situation to help them stabilize their operations. We pro- vided medical staff and those particularly vulnerable to the crisis with medical and relief supplies as well as financial support. We con- tributed to accelerating COVID-19 testing and vaccine roll-outs by sharing our expertise and knowledge with small and medium-sized enterprises producing test kits and low dead space (LDS) syringes.\\nIn addition, under the CSR vision of \"Together for Tomorrow! Enabling People\", we donated tools and equipment, such as tablet PCs, to support young students with their studies online, aiming to lessen the digital divide among students around the globe.\\nThe pandemic has also served to remind us of the severe environ- mental issues we face. Notably, as the new climate regime has been implemented since 2021 in accordance with the Paris Agreement, the international community is now at a watershed moment in the fight against climate change.\\nAs a responsible global company, we are engaged in numerous ini- tiatives to minimize our environmental footprint, from product development to production and, finally, disposal.\\nAs part of our efforts to tackle climate change, we are proud to report that from 2020, all of our worksites in the United States, Europe, and China were 100% powered by renewable energy sources. We plan to build on this success by expanding our renewable energy use in other regions.\\nMeanwhile, we continue to drive a circular economy through techno- logical innovations and the development of high-efficiency products with greater durability. Our new programs, such as Galaxy Upcycling and Eco-Package, encourage consumers to participate in efforts to build a sustainable future in their day to day lives.\\nWe are deeply aware of the fact that compliance and integrity man- agement are at the foundation of sustainability management. We have updated our Global Anti-Corruption and Anti-Bribery Policy to cultivate a deeply rooted compliance culture, and work with the external Samsung Compliance Committee to strictly monitor and manage any compliance risks, throughout the company.\\nThe unprecedented crisis has brought about rapid changes in the way people live their daily lives. Guided by our management philos- ophy which states, “we will devote our human resources and tech- nology to create superior products and services, thereby contribut- ing to a better global society,” and capitalizing on our technological advances and knowledge gained through many years of experience, we will continue to work with our stakeholders and society as a whole to allow a smooth and successful return to normalcy.\\nThank you.'"
      ]
     },
     "execution_count": 15,
     "metadata": {},
     "output_type": "execute_result"
    }
   ],
   "source": [
    "ceo[0]"
   ]
  },
  {
   "cell_type": "code",
   "execution_count": 16,
   "metadata": {},
   "outputs": [
    {
     "data": {
      "text/plain": [
       "['support',\n",
       " 'company',\n",
       " 'shook',\n",
       " 'world',\n",
       " 'health',\n",
       " 'crisis',\n",
       " 'slowdown',\n",
       " 'safety',\n",
       " 'time',\n",
       " 'discrimination',\n",
       " 'divide',\n",
       " 'importance',\n",
       " 'climate',\n",
       " 'change',\n",
       " 'backdrop',\n",
       " 'surprise',\n",
       " 'consumer',\n",
       " 'behavior',\n",
       " 'health',\n",
       " 'safety',\n",
       " 'sustainability',\n",
       " 'business',\n",
       " 'company',\n",
       " 'society',\n",
       " 'legacy',\n",
       " 'genus',\n",
       " 'level',\n",
       " 'adapt',\n",
       " 'environment',\n",
       " 'world',\n",
       " 'support',\n",
       " 'covid',\n",
       " 'situation',\n",
       " 'staff',\n",
       " 'crisis',\n",
       " 'support',\n",
       " 'testing',\n",
       " 'vaccine',\n",
       " 'expertise',\n",
       " 'knowledge',\n",
       " 'test',\n",
       " 'space',\n",
       " 'addition',\n",
       " 'vision',\n",
       " 'tomorrow',\n",
       " 'equipment',\n",
       " 'tablet',\n",
       " 'divide',\n",
       " 'globe',\n",
       " 'pandemic',\n",
       " 'environ',\n",
       " 'climate',\n",
       " 'regime',\n",
       " 'accordance',\n",
       " 'paris',\n",
       " 'agreement',\n",
       " 'community',\n",
       " 'moment',\n",
       " 'fight',\n",
       " 'climate',\n",
       " 'change',\n",
       " 'company',\n",
       " 'ini',\n",
       " 'footprint',\n",
       " 'product',\n",
       " 'development',\n",
       " 'production',\n",
       " 'change',\n",
       " 'energy',\n",
       " 'success',\n",
       " 'energy',\n",
       " 'use',\n",
       " 'economy',\n",
       " 'development',\n",
       " 'highefficiency',\n",
       " 'durability',\n",
       " 'galaxy',\n",
       " 'upcycling',\n",
       " 'ecopackage',\n",
       " 'encourage',\n",
       " 'future',\n",
       " 'day',\n",
       " 'day',\n",
       " 'fact',\n",
       " 'compliance',\n",
       " 'integrity',\n",
       " 'man',\n",
       " 'agement',\n",
       " 'foundation',\n",
       " 'sustainability',\n",
       " 'management',\n",
       " 'anticorruption',\n",
       " 'antibribery',\n",
       " 'policy',\n",
       " 'deeply',\n",
       " 'compliance',\n",
       " 'culture',\n",
       " 'work',\n",
       " 'samsung',\n",
       " 'compliance',\n",
       " 'committee',\n",
       " 'compliance',\n",
       " 'company',\n",
       " 'crisis',\n",
       " 'way',\n",
       " 'management',\n",
       " 'philos',\n",
       " 'ophy',\n",
       " 'nology',\n",
       " 'society',\n",
       " 'knowledge',\n",
       " 'experience',\n",
       " 'society',\n",
       " 'return',\n",
       " 'thank']"
      ]
     },
     "execution_count": 16,
     "metadata": {},
     "output_type": "execute_result"
    }
   ],
   "source": [
    "prepro(ceo[0])"
   ]
  },
  {
   "cell_type": "code",
   "execution_count": 17,
   "metadata": {},
   "outputs": [
    {
     "data": {
      "text/plain": [
       "['support company shook world health crisis slowdown safety time discrimination divide importance climate change backdrop surprise consumer behavior health safety sustainability business company society legacy genus level adapt environment world support covid situation staff crisis support testing vaccine expertise knowledge test space addition vision tomorrow equipment tablet divide globe pandemic environ climate regime accordance paris agreement community moment fight climate change company ini footprint product development production change energy success energy use economy development highefficiency durability galaxy upcycling ecopackage encourage future day day fact compliance integrity man agement foundation sustainability management anticorruption antibribery policy deeply compliance culture work samsung compliance committee compliance company crisis way management philos ophy nology society knowledge experience society return thank',\n",
       " 'worldwide covid pandemic hope market landscape hynix progress business profit development response customer demand groundwork future deal memory unit stateoftheart fabrication plant space violet equipment pollution reduction semiconductor cluster city yongin foundation growth value midlongterm plan value zero semiconductor ecosystem building safety net culture diversity inclusion semiconductor business hynix performance business group value year contribution contribution contribution philanthropic leadership cooperation ict business semiconductor pathfinder way confidence era transformation furthermore effort trust value support journey thank crisis life business employee safety building safety environment sustainability business wider role responsibility hynix trend management linedbl performance valuesv valueev effort happiness year management approach value creation mean sustainability perspective business company center endeavor technology provider cuttingedge era transformation hynix technology humanity addition footprint carbon research innovation manufacturing process standard furthermore role board transparency fairness management semiconductor ecosystem trust approach time investment path time growth sustainability support transformation thank']"
      ]
     },
     "execution_count": 17,
     "metadata": {},
     "output_type": "execute_result"
    }
   ],
   "source": [
    "ceo_list=[' '. join(prepro(i)) for i in ceo]\n",
    "ceo_list[:2]\n",
    "    \n"
   ]
  },
  {
   "cell_type": "code",
   "execution_count": 18,
   "metadata": {},
   "outputs": [
    {
     "data": {
      "text/plain": [
       "'materiality matrix business importance revenue issue revenue generation revenue generation opportunity market creation advantage expense impact cost capital connectivity addition reputation impact company issue regulation importance company response issue business risk security privacy freedom expression innovation compliance cooperation impact creation satisfaction management talent transparency disclosure information climate change economy respect sound governance accessibility literacy energy efficiency energy health safety diversity inclusivity supply chain management community engagement communication consumption business importance revenue expense reputation regulation importance content issue government trust security privacy freedom expression innovation governance business compliance naver project management business management naver project flowe opportunity investment governance business compliance environment impact management environment impact management respect governance governance trust security privacy freedom expression naver project flower environment impact management investment investment naver project water business importance naver project flower environment impact management medium low'"
      ]
     },
     "execution_count": 18,
     "metadata": {},
     "output_type": "execute_result"
    }
   ],
   "source": [
    "material_list=[' '. join(prepro(j)) for j in material]\n",
    "material_list[2]"
   ]
  },
  {
   "cell_type": "code",
   "execution_count": 35,
   "metadata": {},
   "outputs": [
    {
     "data": {
      "text/plain": [
       "'materiality test materiality test relevance significance sustainability management priority materiality test process company business account degree stakeholder issue impact issue business pool sdgs development business process significance industry csr committee meeting discussion sustainability sustainability management selection analysis result benchmarking industry analysis result subject reduction greenhouse gas impact product packaging diversity industry analysis result number market expansion investment expansion china asia result stakeholder survey significance impact product packaging work life balance enhancement product safety total material account business relevance stakeholder issue pool result analysis analysis result materiality analysis analysis industry issue relevance business stakeholder benchmarking industry world list industry survey analysis analysis gri sasb'"
      ]
     },
     "execution_count": 35,
     "metadata": {},
     "output_type": "execute_result"
    }
   ],
   "source": [
    "material_list[12]"
   ]
  },
  {
   "cell_type": "code",
   "execution_count": 20,
   "metadata": {},
   "outputs": [
    {
     "name": "stderr",
     "output_type": "stream",
     "text": [
      "<ipython-input-20-d1476104141a>:1: SettingWithCopyWarning: \n",
      "A value is trying to be set on a copy of a slice from a DataFrame.\n",
      "Try using .loc[row_indexer,col_indexer] = value instead\n",
      "\n",
      "See the caveats in the documentation: https://pandas.pydata.org/pandas-docs/stable/user_guide/indexing.html#returning-a-view-versus-a-copy\n",
      "  df['after_ceo_nouns']=ceo_list\n"
     ]
    }
   ],
   "source": [
    "df['after_ceo_nouns']=ceo_list"
   ]
  },
  {
   "cell_type": "code",
   "execution_count": 21,
   "metadata": {},
   "outputs": [
    {
     "name": "stderr",
     "output_type": "stream",
     "text": [
      "<ipython-input-21-912671f3f24d>:1: SettingWithCopyWarning: \n",
      "A value is trying to be set on a copy of a slice from a DataFrame.\n",
      "Try using .loc[row_indexer,col_indexer] = value instead\n",
      "\n",
      "See the caveats in the documentation: https://pandas.pydata.org/pandas-docs/stable/user_guide/indexing.html#returning-a-view-versus-a-copy\n",
      "  df['after_material_nouns']=material_list\n"
     ]
    }
   ],
   "source": [
    "df['after_material_nouns']=material_list"
   ]
  },
  {
   "cell_type": "code",
   "execution_count": 22,
   "metadata": {},
   "outputs": [
    {
     "data": {
      "text/html": [
       "<div>\n",
       "<style scoped>\n",
       "    .dataframe tbody tr th:only-of-type {\n",
       "        vertical-align: middle;\n",
       "    }\n",
       "\n",
       "    .dataframe tbody tr th {\n",
       "        vertical-align: top;\n",
       "    }\n",
       "\n",
       "    .dataframe thead th {\n",
       "        text-align: right;\n",
       "    }\n",
       "</style>\n",
       "<table border=\"1\" class=\"dataframe\">\n",
       "  <thead>\n",
       "    <tr style=\"text-align: right;\">\n",
       "      <th></th>\n",
       "      <th>종목명</th>\n",
       "      <th>CEO Message</th>\n",
       "      <th>Materiality Assessment</th>\n",
       "      <th>SDGs</th>\n",
       "      <th>after_ceo_nouns</th>\n",
       "      <th>after_material_nouns</th>\n",
       "    </tr>\n",
       "  </thead>\n",
       "  <tbody>\n",
       "    <tr>\n",
       "      <th>1</th>\n",
       "      <td>삼성전자</td>\n",
       "      <td>Dear shareholders, customers, suppliers, and e...</td>\n",
       "      <td>We identify sustainability issues that impact ...</td>\n",
       "      <td>3,4,5,6,7,8,9,10,12,13,15,17</td>\n",
       "      <td>support company shook world health crisis slow...</td>\n",
       "      <td>business progress transparent manner sustainab...</td>\n",
       "    </tr>\n",
       "    <tr>\n",
       "      <th>2</th>\n",
       "      <td>SK하이닉스</td>\n",
       "      <td>Even amidst the worldwide COVID-19 pandemic i...</td>\n",
       "      <td>SK hynix has identified a pool of ESG issues t...</td>\n",
       "      <td>1,3,4,5,6,7,8,9,10,11,12,13,16</td>\n",
       "      <td>worldwide covid pandemic hope market landscape...</td>\n",
       "      <td>hynix pool impact analysis sustainability mate...</td>\n",
       "    </tr>\n",
       "    <tr>\n",
       "      <th>3</th>\n",
       "      <td>NAVER</td>\n",
       "      <td>Greetings,\\nI am Seong-sook Han, the President...</td>\n",
       "      <td>Materiality Matrix\\nTier 3 General issues\\nTie...</td>\n",
       "      <td>4,5,7,8,12,13,16</td>\n",
       "      <td>seongsook president ceo corporation face covid...</td>\n",
       "      <td>materiality matrix business importance revenue...</td>\n",
       "    </tr>\n",
       "    <tr>\n",
       "      <th>4</th>\n",
       "      <td>삼성바이오로직스</td>\n",
       "      <td>Dear fellow stakeholders, I would like to expr...</td>\n",
       "      <td>Samsung Biologics evaluated each issue based o...</td>\n",
       "      <td>3,4,5,6,7,8,9,12,13,15,16</td>\n",
       "      <td>gratitude confidence support samsung establish...</td>\n",
       "      <td>samsung issue business relevance stakeholder i...</td>\n",
       "    </tr>\n",
       "    <tr>\n",
       "      <th>6</th>\n",
       "      <td>카카오</td>\n",
       "      <td>I would like to extend my heartfelt\\ngratitude...</td>\n",
       "      <td>In publishing our first-ever Commitment and Re...</td>\n",
       "      <td>4,7,8,12,13,16,17</td>\n",
       "      <td>heartfelt gratitude support journey kakao worl...</td>\n",
       "      <td>firstever commitment responsibility year mater...</td>\n",
       "    </tr>\n",
       "  </tbody>\n",
       "</table>\n",
       "</div>"
      ],
      "text/plain": [
       "        종목명                                        CEO Message  \\\n",
       "1      삼성전자  Dear shareholders, customers, suppliers, and e...   \n",
       "2    SK하이닉스   Even amidst the worldwide COVID-19 pandemic i...   \n",
       "3     NAVER  Greetings,\\nI am Seong-sook Han, the President...   \n",
       "4  삼성바이오로직스  Dear fellow stakeholders, I would like to expr...   \n",
       "6       카카오  I would like to extend my heartfelt\\ngratitude...   \n",
       "\n",
       "                              Materiality Assessment  \\\n",
       "1  We identify sustainability issues that impact ...   \n",
       "2  SK hynix has identified a pool of ESG issues t...   \n",
       "3  Materiality Matrix\\nTier 3 General issues\\nTie...   \n",
       "4  Samsung Biologics evaluated each issue based o...   \n",
       "6  In publishing our first-ever Commitment and Re...   \n",
       "\n",
       "                             SDGs  \\\n",
       "1    3,4,5,6,7,8,9,10,12,13,15,17   \n",
       "2  1,3,4,5,6,7,8,9,10,11,12,13,16   \n",
       "3                4,5,7,8,12,13,16   \n",
       "4       3,4,5,6,7,8,9,12,13,15,16   \n",
       "6               4,7,8,12,13,16,17   \n",
       "\n",
       "                                     after_ceo_nouns  \\\n",
       "1  support company shook world health crisis slow...   \n",
       "2  worldwide covid pandemic hope market landscape...   \n",
       "3  seongsook president ceo corporation face covid...   \n",
       "4  gratitude confidence support samsung establish...   \n",
       "6  heartfelt gratitude support journey kakao worl...   \n",
       "\n",
       "                                after_material_nouns  \n",
       "1  business progress transparent manner sustainab...  \n",
       "2  hynix pool impact analysis sustainability mate...  \n",
       "3  materiality matrix business importance revenue...  \n",
       "4  samsung issue business relevance stakeholder i...  \n",
       "6  firstever commitment responsibility year mater...  "
      ]
     },
     "execution_count": 22,
     "metadata": {},
     "output_type": "execute_result"
    }
   ],
   "source": [
    "df.head()"
   ]
  },
  {
   "cell_type": "code",
   "execution_count": 81,
   "metadata": {},
   "outputs": [],
   "source": [
    "df.to_excel('after_cleansing.xlsx')"
   ]
  },
  {
   "cell_type": "code",
   "execution_count": null,
   "metadata": {},
   "outputs": [],
   "source": []
  }
 ],
 "metadata": {
  "interpreter": {
   "hash": "9027aef0c98af2431a1a4798d6143261136f5e72e4c0f1a463df25852ac1670e"
  },
  "kernelspec": {
   "display_name": "Python 3",
   "language": "python",
   "name": "python3"
  },
  "language_info": {
   "codemirror_mode": {
    "name": "ipython",
    "version": 3
   },
   "file_extension": ".py",
   "mimetype": "text/x-python",
   "name": "python",
   "nbconvert_exporter": "python",
   "pygments_lexer": "ipython3",
   "version": "3.8.8"
  }
 },
 "nbformat": 4,
 "nbformat_minor": 2
}
