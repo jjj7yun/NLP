{
 "cells": [
  {
   "cell_type": "code",
   "execution_count": null,
   "id": "7035e211",
   "metadata": {},
   "outputs": [],
   "source": [
    "### 일단 word2vec에 의해 region_news.model로 학습된 모델이 형성되었음을 전제로 함. 만약 모델이름이 다르면 같은 폴더에 다른 이름으로 접근하면 됨"
   ]
  },
  {
   "cell_type": "code",
   "execution_count": 1,
   "id": "19060ce6",
   "metadata": {},
   "outputs": [
    {
     "name": "stderr",
     "output_type": "stream",
     "text": [
      "C:\\Users\\user\\AppData\\Roaming\\Python\\Python38\\site-packages\\gensim\\similarities\\__init__.py:15: UserWarning: The gensim.similarities.levenshtein submodule is disabled, because the optional Levenshtein package <https://pypi.org/project/python-Levenshtein/> is unavailable. Install Levenhstein (e.g. `pip install python-Levenshtein`) to suppress this warning.\n",
      "  warnings.warn(msg)\n"
     ]
    }
   ],
   "source": [
    "import gensim\n",
    "from gensim.models import Word2Vec"
   ]
  },
  {
   "cell_type": "code",
   "execution_count": null,
   "id": "420ca849",
   "metadata": {},
   "outputs": [],
   "source": [
    "model=gensim.models.Word2Vec.load('region_news.model')"
   ]
  },
  {
   "cell_type": "code",
   "execution_count": null,
   "id": "edb982fb",
   "metadata": {},
   "outputs": [],
   "source": [
    "model.wv.similarity('사회','지원')"
   ]
  },
  {
   "cell_type": "code",
   "execution_count": null,
   "id": "6552e1f7",
   "metadata": {},
   "outputs": [],
   "source": [
    "import numpy as np\n",
    "\n",
    "def sim_matrix(word_list):\n",
    "    word_matrix=[]\n",
    "    for num,i in enumerate(word_list):\n",
    "        \n",
    "        tmp=[]\n",
    "        for num1,k in enumerate(word_list):\n",
    "            \n",
    "            cosine_sim=model.wv.similarity(i,k)\n",
    "            tmp.append(cosine_sim)\n",
    "        word_matrix.append(tmp)\n",
    "    return word_matrix"
   ]
  },
  {
   "cell_type": "code",
   "execution_count": null,
   "id": "28018c14",
   "metadata": {},
   "outputs": [],
   "source": [
    "import pandas as pd"
   ]
  },
  {
   "cell_type": "code",
   "execution_count": null,
   "id": "5cddceac",
   "metadata": {},
   "outputs": [],
   "source": [
    "!pwd"
   ]
  },
  {
   "cell_type": "code",
   "execution_count": null,
   "id": "afa7213f",
   "metadata": {},
   "outputs": [],
   "source": [
    "topic_5=pd.read_excel('Result_5_topic_excel.xlsx',sheet_name='sheet2')"
   ]
  },
  {
   "cell_type": "code",
   "execution_count": null,
   "id": "578f7c0b",
   "metadata": {},
   "outputs": [],
   "source": [
    "topic1=list(topic_5['topic1'])"
   ]
  },
  {
   "cell_type": "code",
   "execution_count": null,
   "id": "ba2be14a",
   "metadata": {},
   "outputs": [],
   "source": [
    "topic2=list(topic_5['topic2'])"
   ]
  },
  {
   "cell_type": "code",
   "execution_count": null,
   "id": "be8be514",
   "metadata": {},
   "outputs": [],
   "source": [
    "topic3=list(topic_5['topic3'])\n",
    "topic4=list(topic_5['topic4'])\n",
    "topic5=list(topic_5['topic5'])"
   ]
  },
  {
   "cell_type": "code",
   "execution_count": null,
   "id": "6ff84567",
   "metadata": {},
   "outputs": [],
   "source": [
    "print(sim_matrix(topic1))\n"
   ]
  },
  {
   "cell_type": "code",
   "execution_count": null,
   "id": "d66b1f77",
   "metadata": {},
   "outputs": [],
   "source": [
    "#토픽마다 생성\n",
    "\n",
    "def converter(topic_matrix,excel_file):\n",
    "    df=pd.DataFrame.from_records(topic_matrix)\n",
    "    df.to_excel(excel_file)\n",
    "    return excel_file"
   ]
  },
  {
   "cell_type": "code",
   "execution_count": null,
   "id": "c1d3ed2e",
   "metadata": {},
   "outputs": [],
   "source": [
    "#topic1\n",
    "converter(sim_matrix(topic1),'topic1_matrix.xlsx')"
   ]
  },
  {
   "cell_type": "code",
   "execution_count": null,
   "id": "847e0e46",
   "metadata": {},
   "outputs": [],
   "source": [
    "#위의 코드를 적당하게 변화하여 for 문으로 새로운 xlsx 파일을 형성하면 됨"
   ]
  }
 ],
 "metadata": {
  "kernelspec": {
   "display_name": "Python 3",
   "language": "python",
   "name": "python3"
  },
  "language_info": {
   "codemirror_mode": {
    "name": "ipython",
    "version": 3
   },
   "file_extension": ".py",
   "mimetype": "text/x-python",
   "name": "python",
   "nbconvert_exporter": "python",
   "pygments_lexer": "ipython3",
   "version": "3.8.8"
  }
 },
 "nbformat": 4,
 "nbformat_minor": 5
}
